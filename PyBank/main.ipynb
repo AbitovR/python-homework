{
 "cells": [
  {
   "cell_type": "code",
   "execution_count": 34,
   "id": "f13895bf-8a83-4991-b344-6a298d68ba1d",
   "metadata": {},
   "outputs": [],
   "source": [
    "#importing libraries\n",
    "import pandas as pd \n",
    "import numpy as np\n",
    "from pathlib import Path\n",
    "import matplotlib.pyplot as plt\n",
    "%matplotlib inline"
   ]
  },
  {
   "cell_type": "code",
   "execution_count": 35,
   "id": "7a7e5111-f110-41ef-abd7-e8fd253f309d",
   "metadata": {},
   "outputs": [],
   "source": [
    "#getting access & reading the data\n",
    "csvpath = Path(\"budget_data.csv\")"
   ]
  },
  {
   "cell_type": "code",
   "execution_count": 36,
   "id": "d2911837-24c5-4a90-8c6f-d4a23bfe2c1b",
   "metadata": {},
   "outputs": [
    {
     "data": {
      "text/html": [
       "<div>\n",
       "<style scoped>\n",
       "    .dataframe tbody tr th:only-of-type {\n",
       "        vertical-align: middle;\n",
       "    }\n",
       "\n",
       "    .dataframe tbody tr th {\n",
       "        vertical-align: top;\n",
       "    }\n",
       "\n",
       "    .dataframe thead th {\n",
       "        text-align: right;\n",
       "    }\n",
       "</style>\n",
       "<table border=\"1\" class=\"dataframe\">\n",
       "  <thead>\n",
       "    <tr style=\"text-align: right;\">\n",
       "      <th></th>\n",
       "      <th>Date</th>\n",
       "      <th>Profit/Losses</th>\n",
       "    </tr>\n",
       "  </thead>\n",
       "  <tbody>\n",
       "    <tr>\n",
       "      <th>0</th>\n",
       "      <td>Jan-2010</td>\n",
       "      <td>867884</td>\n",
       "    </tr>\n",
       "    <tr>\n",
       "      <th>1</th>\n",
       "      <td>Feb-2010</td>\n",
       "      <td>984655</td>\n",
       "    </tr>\n",
       "    <tr>\n",
       "      <th>2</th>\n",
       "      <td>Mar-2010</td>\n",
       "      <td>322013</td>\n",
       "    </tr>\n",
       "    <tr>\n",
       "      <th>3</th>\n",
       "      <td>Apr-2010</td>\n",
       "      <td>-69417</td>\n",
       "    </tr>\n",
       "    <tr>\n",
       "      <th>4</th>\n",
       "      <td>May-2010</td>\n",
       "      <td>310503</td>\n",
       "    </tr>\n",
       "  </tbody>\n",
       "</table>\n",
       "</div>"
      ],
      "text/plain": [
       "       Date  Profit/Losses\n",
       "0  Jan-2010         867884\n",
       "1  Feb-2010         984655\n",
       "2  Mar-2010         322013\n",
       "3  Apr-2010         -69417\n",
       "4  May-2010         310503"
      ]
     },
     "execution_count": 36,
     "metadata": {},
     "output_type": "execute_result"
    }
   ],
   "source": [
    "revenue_data = pd.read_csv(csvpath)\n",
    "revenue_data.head()"
   ]
  },
  {
   "cell_type": "code",
   "execution_count": 37,
   "id": "69bada4b-22ec-4450-bad4-7d3fa14daa40",
   "metadata": {},
   "outputs": [
    {
     "data": {
      "text/plain": [
       "86"
      ]
     },
     "execution_count": 37,
     "metadata": {},
     "output_type": "execute_result"
    }
   ],
   "source": [
    "#calculating total number of months included in the dataset.\n",
    "total_months = len(revenue_data[\"Date\"].unique())\n",
    "total_months\n"
   ]
  },
  {
   "cell_type": "code",
   "execution_count": 38,
   "id": "d388d11c-f8c9-438b-8c04-a63c449c0677",
   "metadata": {},
   "outputs": [
    {
     "data": {
      "text/plain": [
       "38382578"
      ]
     },
     "execution_count": 38,
     "metadata": {},
     "output_type": "execute_result"
    }
   ],
   "source": [
    "#calculating net total amount of Profit/Losses over the entire period.\n",
    "profit_losses = revenue_data[\"Profit/Losses\"].sum()\n",
    "profit_losses"
   ]
  },
  {
   "cell_type": "code",
   "execution_count": 39,
   "id": "cc6a0702-ebab-442a-803f-0b647bcaec2d",
   "metadata": {},
   "outputs": [
    {
     "data": {
      "text/plain": [
       "-2315.1176470588234"
      ]
     },
     "execution_count": 39,
     "metadata": {},
     "output_type": "execute_result"
    }
   ],
   "source": [
    "#calculating the average of the changes in Profit/Losses over the entire period.\n",
    "monthly_changes_list = []\n",
    "initial = 0\n",
    "final = 0\n",
    "for index, row in revenue_data.iterrows():\n",
    "    if index == 0:\n",
    "        initial = row[\"Profit/Losses\"]\n",
    "    else:\n",
    "        final = row[\"Profit/Losses\"]\n",
    "        monthly_change = (final - initial)\n",
    "        monthly_changes_list.append(monthly_change)\n",
    "        initial = final \n",
    "        \n",
    "change_sum = 0\n",
    "for change in monthly_changes_list:\n",
    "    change_sum += change\n",
    "    \n",
    "average_change = change_sum/len(monthly_changes_list)\n",
    "average_change\n"
   ]
  },
  {
   "cell_type": "code",
   "execution_count": 40,
   "id": "6e947a73-6689-4672-b7d5-cdedc25f0f1a",
   "metadata": {},
   "outputs": [
    {
     "name": "stdout",
     "output_type": "stream",
     "text": [
      "Greatest Increase in Profits: Feb-2012 ($1170593)\n"
     ]
    }
   ],
   "source": [
    "#calculating the greatest increase in profits (date and amount) over the entire period.\n",
    "greatest_increase = revenue_data[\"Profit/Losses\"].max()\n",
    "for index, row in revenue_data.iterrows():\n",
    "    if row[\"Profit/Losses\"] == greatest_increase:\n",
    "        greatest_increase_month = row[\"Date\"]\n",
    "    \n",
    "print(f\"Greatest Increase in Profits: {greatest_increase_month} (${greatest_increase})\") \n"
   ]
  },
  {
   "cell_type": "code",
   "execution_count": 41,
   "id": "9649fbe4-5f17-4791-92cd-a9bad4667d67",
   "metadata": {},
   "outputs": [
    {
     "name": "stdout",
     "output_type": "stream",
     "text": [
      "Greatest Decrease in Losses: Sep-2013 ($-1196225)\n"
     ]
    }
   ],
   "source": [
    "greatest_decrease = revenue_data[\"Profit/Losses\"].min()\n",
    "for index, row in revenue_data.iterrows():\n",
    "    if row[\"Profit/Losses\"] == greatest_decrease:\n",
    "        greatest_decrease_month = row[\"Date\"]\n",
    "print(f\"Greatest Decrease in Losses: {greatest_decrease_month} (${greatest_decrease})\")"
   ]
  },
  {
   "cell_type": "code",
   "execution_count": 42,
   "id": "ea79ab24-248b-45df-98cf-865f0543b885",
   "metadata": {},
   "outputs": [
    {
     "name": "stdout",
     "output_type": "stream",
     "text": [
      "Financial Analysis\n",
      "----------------------------\n",
      "Total Months: 86\n",
      "Total: $38382578\n",
      "Average Change: $-2315.1176470588234\n",
      "Greatest Increase in Profits: Feb-2012 ($1170593)\n",
      "Greatest Decrease in Profits: Sep-2013 ($-1196225)\n"
     ]
    }
   ],
   "source": [
    "print(\"Financial Analysis\")\n",
    "print(\"----------------------------\")\n",
    "print(f\"Total Months: {total_months}\")\n",
    "print(f\"Total: ${profit_losses}\")\n",
    "print(f\"Average Change: ${average_change}\")\n",
    "print(f\"Greatest Increase in Profits: {greatest_increase_month} (${greatest_increase})\")\n",
    "print(f\"Greatest Decrease in Profits: {greatest_decrease_month} (${greatest_decrease})\")"
   ]
  },
  {
   "cell_type": "code",
   "execution_count": null,
   "id": "a2204c98-f2a4-4577-8546-620526ed746f",
   "metadata": {},
   "outputs": [],
   "source": []
  }
 ],
 "metadata": {
  "kernelspec": {
   "display_name": "Python 3 (ipykernel)",
   "language": "python",
   "name": "python3"
  },
  "language_info": {
   "codemirror_mode": {
    "name": "ipython",
    "version": 3
   },
   "file_extension": ".py",
   "mimetype": "text/x-python",
   "name": "python",
   "nbconvert_exporter": "python",
   "pygments_lexer": "ipython3",
   "version": "3.8.8"
  }
 },
 "nbformat": 4,
 "nbformat_minor": 5
}
